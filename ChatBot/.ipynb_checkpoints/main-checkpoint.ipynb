{
 "cells": [
  {
   "cell_type": "markdown",
   "id": "f397fa8a-52ee-4f09-9f82-6cd603aa9a23",
   "metadata": {},
   "source": [
    "# OS DOCUMENTOS JÁ TODOS TEM OCR FEITO (QUANDO FOI NECESSARIO). SE CRIAM NOVOS DOCUMENTOS OU MEXEM ALGO E TAL, SEMPRE CONFIRMAM SE DA PRA COPIAR O CODIGO DO PDF, SE NAO DA TEM QUE FAZER OCR PARA ESSE DOCUMENTO (podem mandar pra mim que eu posso fazer acho)"
   ]
  },
  {
   "cell_type": "code",
   "execution_count": 1,
   "id": "47e283ba-1e1d-4897-8e0e-1ee6b68eeed2",
   "metadata": {},
   "outputs": [],
   "source": [
    "# acho que nao é necessario, mas se falta algo podem correr isso\n",
    "\n",
    "#pip install pymupdf python-docx\n",
    "#!pip install python-docx"
   ]
  },
  {
   "cell_type": "code",
   "execution_count": 1,
   "id": "3e901f72-213a-4fa1-a3f3-74200a26d76a",
   "metadata": {},
   "outputs": [],
   "source": [
    "# imports\n",
    "import os\n",
    "import json\n",
    "import time\n",
    "import pandas as pd\n",
    "from openai import AzureOpenAI\n",
    "from PIL import Image\n",
    "from IPython.display import Markdown, display\n",
    "import pickle\n",
    "from datetime import datetime, timedelta\n",
    "import fitz\n",
    "from docx import Document  "
   ]
  },
  {
   "cell_type": "code",
   "execution_count": 2,
   "id": "65e2116f-d39b-4b6f-acf1-de5acecb077a",
   "metadata": {},
   "outputs": [],
   "source": [
    "#import methods from utils.py\n",
    "from utils import (\n",
    "    create_assistant,\n",
    "    create_thread,\n",
    "    check_assistant_exists,\n",
    "    load_and_upload_files,\n",
    "    add_message_to_thread,\n",
    "    display_messages,\n",
    "    send_message_to_assistant\n",
    ")"
   ]
  },
  {
   "cell_type": "markdown",
   "id": "569fd69e-3108-4fc6-9cc9-b8609025c26f",
   "metadata": {},
   "source": [
    "# AQUI VCS PRECISAM COLOCAR O KEY DE VCS. ENTRAM NO PDF 7-LargeLanguageModels  no moodle do curso, a partir da pagina 56 tá explicado. é bem facil dps de entrar no azure open ai lá e tipo terem feito o registro, só precisam ir para o chat/playground e dps clicar em 'view code' e dps tiram de lá o key de vcs, que esta lá ocultado e colocam esse key aqui em baixo. o endpoint já tá cert e deve ficar assim"
   ]
  },
  {
   "cell_type": "code",
   "execution_count": 3,
   "id": "16f737eb-b670-4d4d-a1ec-a6e824207058",
   "metadata": {},
   "outputs": [],
   "source": [
    "#AQUI VCS PRECISAM COLOCAR O KEY DE VCS. ENTRAM NO PDF 7-LargeLanguageModels  no moodle do curso, a partir da pagina 56 tá explicado. é bem facil\n",
    "# dps de entrar no azure open ai lá e tipo terem feito o registro, só precisam ir para o chat/playground e dps clicar em 'view code' e dps tiram de lá o \n",
    "# key de vcs, que esta lá ocultado e colocam esse key aqui em baixo. o endpoint já tá cert e deve ficar assim\n",
    "\n",
    "# Set API key and endpoint\n",
    "api_key = 'yourKEY'\n",
    "endpoint = 'https://ai-bcds.openai.azure.com/'"
   ]
  },
  {
   "cell_type": "code",
   "execution_count": 4,
   "id": "ea2708ce-6dd9-4bb9-bb59-b32dace93708",
   "metadata": {},
   "outputs": [],
   "source": [
    "# Constants\n",
    "current_folder = os.getcwd()\n",
    "data_folder = current_folder\n",
    "data_folder_full_path = os.path.abspath(data_folder)\n",
    "\n",
    "assistantFilename = 'AssistantID.TXT'\n",
    "assistant_id = None\n",
    "assistant = None\n",
    "vector_data = 'vector_store.pkl'   # where uploaded data will be/is saved\n",
    "\n",
    "displayedMessagesIDs = []"
   ]
  },
  {
   "cell_type": "code",
   "execution_count": 5,
   "id": "3127ff98-46b7-4687-87cb-8c34e9d08707",
   "metadata": {},
   "outputs": [],
   "source": [
    "# Initialize the Azure OpenAI client\n",
    "client = AzureOpenAI(\n",
    "    azure_endpoint = endpoint,\n",
    "    api_key= api_key,\n",
    "    api_version=\"2024-05-01-preview\")"
   ]
  },
  {
   "cell_type": "code",
   "execution_count": 6,
   "id": "a8e86188-c46d-44da-b500-d7b0bcfab9af",
   "metadata": {},
   "outputs": [],
   "source": [
    "# load the link_map created, that links every document with a source link\n",
    "with open(\"document_links.json\", \"r\", encoding=\"utf-8\") as f:\n",
    "    doc_link_map = json.load(f)"
   ]
  },
  {
   "cell_type": "markdown",
   "id": "46cf4751-a930-43fa-ab03-f990f87d5087",
   "metadata": {},
   "source": [
    "# se já existe o vector_store.pkl na pasta e nao mudaram nada, isse vai ser bué rapido. IMPORTANTE, SE MEXEM ALGO NOS DOCUMENTOS, TEM QUE APAGAR O vector_store.pkl lá na pasta, E CORREM ISSO AQUI, ai vai demorar tipo 15 min pq ele carrega todos os documentos dnv, mas é isso"
   ]
  },
  {
   "cell_type": "code",
   "execution_count": 7,
   "id": "7cd2817b-8b3a-4639-9287-dd7581e99b25",
   "metadata": {},
   "outputs": [
    {
     "name": "stdout",
     "output_type": "stream",
     "text": [
      "Loaded existing vector store from file.\n"
     ]
    }
   ],
   "source": [
    "# se já existe o vector_store.pkl e nao mudaram nada, isse vai ser bué rapido. IMPORTANTE, SE MEXEM ALGO NOS DOCUMENTOS, TEM QUE\n",
    "# APAGAR O vector_store.pkl lá na pasta, E CORREM ISSO AQUI, ai vai demorar tipo 15 min pq ele carrega todos os documentos dnv, mas é isso\n",
    "\n",
    "# Load or upload documents \n",
    "if os.path.exists(vector_data):\n",
    "    with open(vector_data, \"rb\") as file:\n",
    "        vector_store = pickle.load(file)\n",
    "    print(\"Loaded existing vector store from file.\")\n",
    "else:\n",
    "    print(\"Uploading documents and creating vector store...\")\n",
    "    vector_store = load_and_upload_files(client, link_map=doc_link_map)\n",
    "    print(\"Documents uploaded.\")"
   ]
  },
  {
   "cell_type": "code",
   "execution_count": 8,
   "id": "ed573a65-c1e3-4974-b191-a8331af02bf0",
   "metadata": {},
   "outputs": [],
   "source": [
    "# AQUI PODEM MUDAR COMO O MODELO AGE, acho obvio como funciona. MAS TENTAM FAZER UMA COPIA DO DE AGORA ANTES DE MUDAR TODO PQ O ATUAL já nao ta mal,\n",
    "# podem melhorar a vontade, mas só pra ter isso como backup. \n",
    "\n",
    "# role of the model\n",
    "aRole = aRole = (\n",
    "    \"Você é um assistente virtual confiável e rápido que auxilia os colaboradores da seguradora Fidelidade.\\n\"\n",
    "    \"Seu objetivo é fornecer respostas claras e corretas durante atendimentos a clientes, \"\n",
    "    \"especialmente quando o colaborador precisa consultar informações rapidamente.\\n\"\n",
    "    \"Você não conversa diretamente com o cliente final, mas ajuda o funcionário da Fidelidade a responder com confiança.\"\n",
    ")\n",
    "\n",
    "# some rules/prompts for the model\n",
    "\n",
    "prompt_rules = (\n",
    "    \"Rules:\\n\"\n",
    "    \"Responda somente se a resposta puder ser encontrada claramente nos documentos fornecidos.\\n\"\n",
    "    \"Se não tiver certeza, diga: \\\"Desculpe, não tenho informação suficiente para responder a isso com precisão.\\\" Não invente.\\n\"\n",
    "    \"Se a mensagem for apenas uma saudação, responda de forma rápida e direcione o colaborador para fazer uma pergunta específica.\\n\"\n",
    "    \"\\n\"\n",
    "    \"Use uma linguagem clara, direta e profissional, adequada para que o colaborador possa repassar ao cliente.\\n\"\n",
    "    \"Seja direto, útil e evite respostas muito longas. Quando possível, responda com listas curtas (bullet points).\\n\"\n",
    "    \"\\n\"\n",
    "    \"- Sempre que uma resposta for baseada em um documento, verifique se no final do texto existe uma linha que começa com 'Fonte:'.\\n\"\n",
    "    \"- Se existir, adicione esse link como fonte no final da resposta com a frase: 'Fonte: [link]'.\\n\"\n",
    "    \"- Se não houver fonte clara, responda normalmente.\\n\"\n",
    "    \"- Nunca invente links. Use apenas os que já estão presentes no texto fornecido.\\n\"\n",
    "    \"\\n\"\n",
    "    \"IMPORTANTE: Cada documento inclui várias vezes no início o campo \\\"Categoria:\\\", que indica se o conteúdo é da Fidelidade ou de um concorrente.\\n\"\n",
    "    \"\\n\"\n",
    "    \"• Se Categoria for **Fidelidade**, pode usar livremente o conteúdo para responder sobre produtos da Fidelidade.\\n\"\n",
    "    \"• Se Categoria for **Concorrente**, use essas informações **apenas** para por exemplo comparações quando for solicitado pelo usuário.\\n\"\n",
    "    \"  NUNCA use informações de concorrentes para explicar, descrever, recomendar ou apresentar produtos da Fidelidade.\\n\"\n",
    "    \"\\n\"\n",
    "    \"Regra de ouro: **Nunca utilize conteúdo de documentos com 'Categoria: Concorrente' para responder diretamente a perguntas sobre produtos da Fidelidade.**\\n\"\n",
    "\n",
    "    \"Instruções adicionais:\\n\"\n",
    "    \"– Se a pergunta estiver presente nos Q&As dos documentos, use a resposta exatamente como está lá.\\n\"\n",
    "    \"– Se a pergunta não estiver nos documentos, mas for básica e relacionada ao tema (ex: conceitos de seguros), pode responder de forma genérica.\\n\"\n",
    "    \"– Se a pergunta não tiver relação com o tema, responda: \\\"Desculpe, essa pergunta ultrapassa o escopo deste assistente.\\\"\\n\"\n",
    "    \"– Se usar informações de documentos, **forneça sempre o link da página correspondente** como referência.\\n\"\n",
    "    \"– Se não souber a resposta, mas a pergunta for relevante, indique o site oficial da Fidelidade como fonte adicional.\\n\"\n",
    ")\n"
   ]
  },
  {
   "cell_type": "code",
   "execution_count": 9,
   "id": "2c32c682-d7cf-4922-816b-79f63bd4dc5d",
   "metadata": {},
   "outputs": [
    {
     "name": "stdout",
     "output_type": "stream",
     "text": [
      "Using existing assistant: asst_afxDUFnwot8aRxGIbDcmPyiv\n"
     ]
    }
   ],
   "source": [
    "# Load or create assistant using existing vector store\n",
    "\n",
    "# try load existing assistant\n",
    "if os.path.exists(assistantFilename):\n",
    "    with open(assistantFilename, \"r\") as file:\n",
    "        assistant_id = file.read().strip()\n",
    "\n",
    "    # check if assistant exists in azure\n",
    "    exists, assistant = check_assistant_exists(client, assistant_id)\n",
    "    if exists:\n",
    "        # load assistant with new role\n",
    "        assistant = client.beta.assistants.update(\n",
    "            assistant_id=assistant_id,\n",
    "            instructions=aRole, \n",
    "            tool_resources={    # the documents made available for the model\n",
    "                \"file_search\": {\n",
    "                    \"vector_store_ids\": [vector_store.id]\n",
    "                }\n",
    "            }\n",
    "        )\n",
    "        print(\"Using existing assistant:\", assistant_id)\n",
    "\n",
    "    else:  # if assistant exist but not valid in azure\n",
    "        print(\"Assistant ID found, but not valid in API. Creating new one...\")\n",
    "        assistant_id = None   # marker to create new assistant \n",
    "\n",
    "else:   # if no assistant found\n",
    "    print(\"ℹNo assistant ID file found. Creating new assistant...\")\n",
    "    assistant_id = None   # marker to create new assistant\n",
    "\n",
    "# no valid assistant --> create new one\n",
    "if assistant_id is None:\n",
    "    print(\"Creating new assistant...\")\n",
    "    assistant = create_assistant(client, aRole, assistantFilename)\n",
    "    assistant_id = assistant.id\n",
    "\n",
    "    assistant = client.beta.assistants.update(\n",
    "        assistant_id=assistant.id,\n",
    "        tool_resources={\n",
    "            \"file_search\": {\n",
    "                \"vector_store_ids\": [vector_store.id]\n",
    "            }\n",
    "        }\n",
    "    )\n",
    "    print(\"New assistant created and linked.\")\n"
   ]
  },
  {
   "cell_type": "code",
   "execution_count": 10,
   "id": "af98d633-ce5f-4b89-8b98-1a4cb9e98ad1",
   "metadata": {},
   "outputs": [],
   "source": [
    "# New thread\n",
    "thread = create_thread(client)"
   ]
  },
  {
   "cell_type": "markdown",
   "id": "764cd798-d4d2-4abc-813c-bc7f469dcc87",
   "metadata": {},
   "source": [
    "## WRITE 'QUIT' TO TERMINATE CHAT, WRITE 'RESET' to reset chat"
   ]
  },
  {
   "cell_type": "code",
   "execution_count": 11,
   "id": "0829cc55-8380-48a5-a7d2-3d5bfa946fac",
   "metadata": {},
   "outputs": [
    {
     "name": "stdin",
     "output_type": "stream",
     "text": [
      "You:  quit\n"
     ]
    },
    {
     "name": "stdout",
     "output_type": "stream",
     "text": [
      "vlw é noix, até já\n"
     ]
    }
   ],
   "source": [
    "# run this to run model. WRITE 'QUIT' TO TERMINATE CHAT, WRITE 'RESET' to reset chat\n",
    "\n",
    "while True:\n",
    "    user_input = input(\"You: \")\n",
    "    full_prompt = f\"{prompt_rules}\\n\\nUser question: {user_input}\"\n",
    "\n",
    "    if user_input.strip().upper() == \"QUIT\":\n",
    "        print(\"vlw é noix, até já\")    # !!!!!!!!!!!!!!! TROCAM ISSO hahah !!!!!!!!!!!!!!!!!!!!!!!!!!!!\n",
    "        break\n",
    "    elif user_input.strip().upper() == \"RESET\":\n",
    "        print(\"Starting a new chat...\")\n",
    "        thread = create_thread(client)\n",
    "    else:\n",
    "        send_message_to_assistant(client, thread, assistant, user_input, full_prompt, displayedMessagesIDs)\n"
   ]
  },
  {
   "cell_type": "code",
   "execution_count": null,
   "id": "868d953d-48b2-4109-8da8-3b634c26e9a3",
   "metadata": {},
   "outputs": [],
   "source": []
  }
 ],
 "metadata": {
  "kernelspec": {
   "display_name": "Python 3 (ipykernel)",
   "language": "python",
   "name": "python3"
  },
  "language_info": {
   "codemirror_mode": {
    "name": "ipython",
    "version": 3
   },
   "file_extension": ".py",
   "mimetype": "text/x-python",
   "name": "python",
   "nbconvert_exporter": "python",
   "pygments_lexer": "ipython3",
   "version": "3.12.3"
  }
 },
 "nbformat": 4,
 "nbformat_minor": 5
}
