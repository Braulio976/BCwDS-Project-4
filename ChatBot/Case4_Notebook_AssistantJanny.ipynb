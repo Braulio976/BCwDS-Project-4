{
 "cells": [
  {
   "cell_type": "markdown",
   "id": "c3951744-18fc-437f-83cb-4a828c3e9cce",
   "metadata": {},
   "source": [
    "<h1 align=\"center\" style=\"margin-bottom: 20px;\">Business Cases with Data Science 2024-25</h1>\n",
    "<h3 align=\"center\" style=\"margin-top: 20px; margin-bottom: 20px;\">Case 4: AI - Powered Chatbot</h3>\n",
    "<h5 align=\"center\" style=\"margin-top: 20px; margin-bottom: 0px;\">Notebook 1 \n",
    "\n",
    "### Group B - Members:\n",
    "- Ana Marta Azinheira | 20240496@novaims.unl.pt\n",
    "- Bráulio Damba | 20240007@novaims.unl.pt\n",
    "- Jan-Louis Schneider | 20240506@novaims.unl.pt\n",
    "- Sofia Jacinto | 20240598@novaims.unl.pt"
   ]
  },
  {
   "cell_type": "markdown",
   "id": "46791bf0-3f0a-4ade-9d73-013ca5142c11",
   "metadata": {},
   "source": [
    "# Notebook Objective"
   ]
  },
  {
   "cell_type": "markdown",
   "id": "91fa79ad-70eb-4476-bca4-e229bab45bf2",
   "metadata": {},
   "source": [
    "- This notebook is designed to test our AI-Powered Chatbot. Throughout the notebook, we develop and refine various prompts to interact with our model. To support this notebook, we include a separate .py file containing the core functions used by the chatbot. At the end of the notebook, users will be able to test the chatbot in a simulated environment."
   ]
  },
  {
   "cell_type": "markdown",
   "id": "78ed3c36-f2ac-4b63-80fc-6dc199a2981a",
   "metadata": {},
   "source": [
    "# Importing Libraries and Others"
   ]
  },
  {
   "cell_type": "code",
   "execution_count": 7,
   "id": "2fac0364-05ac-4cea-aeab-2e2ef86dc370",
   "metadata": {},
   "outputs": [],
   "source": [
    "# Imports\n",
    "import os\n",
    "import json\n",
    "import time\n",
    "import pandas as pd\n",
    "from openai import AzureOpenAI\n",
    "from PIL import Image\n",
    "from IPython.display import Markdown, display\n",
    "import pickle\n",
    "from datetime import datetime, timedelta\n",
    "import fitz\n",
    "import markdown\n",
    "from docx import Document  \n",
    "import sys\n",
    "import re\n",
    "from PyQt5.QtWidgets import QApplication, QWidget, QVBoxLayout, QTextEdit, QPushButton, QLabel, QTextBrowser\n",
    "from PyQt5.QtCore import Qt, pyqtSignal, QThread\n",
    "\n",
    "#pip install pymupdf python-docx\n",
    "#!pip install python-docx\n",
    "#!pip install streamlit\n",
    "#pip install PyQt5 openai pillow\n",
    "#pip install pyqt5-tools\n",
    "#pip install markdown"
   ]
  },
  {
   "cell_type": "code",
   "execution_count": 8,
   "id": "39e1add5-338c-48d8-9e49-d787047945d5",
   "metadata": {},
   "outputs": [],
   "source": [
    "# Import methods from utils.py\n",
    "from utils import (\n",
    "    create_assistant,\n",
    "    create_thread,\n",
    "    check_assistant_exists,\n",
    "    load_and_upload_files,\n",
    "    add_message_to_thread,\n",
    "    display_messages,\n",
    "    send_message_to_assistant\n",
    ")"
   ]
  },
  {
   "cell_type": "code",
   "execution_count": 9,
   "id": "396f92bc-c5eb-48d8-b923-16521f185906",
   "metadata": {},
   "outputs": [],
   "source": [
    "# Set API key and endpoint\n",
    "api_key = 'yourKEY'\n",
    "endpoint = 'https://ai-bcds.openai.azure.com/'"
   ]
  },
  {
   "cell_type": "code",
   "execution_count": 10,
   "id": "288f04bc-be9a-45be-b6c5-20435a3de2d0",
   "metadata": {},
   "outputs": [],
   "source": [
    "# Constants\n",
    "current_folder = os.getcwd()\n",
    "data_folder = current_folder\n",
    "data_folder_full_path = os.path.abspath(data_folder)\n",
    "\n",
    "assistantFilename = 'AssistantID.TXT'\n",
    "assistant_id = None\n",
    "assistant = None\n",
    "vector_data = 'vector_store.pkl'   # Where uploaded data will be/is saved\n",
    "\n",
    "displayedMessagesIDs = []"
   ]
  },
  {
   "cell_type": "code",
   "execution_count": 11,
   "id": "c57b19a6-4ab5-42c5-a6b2-43ff5f6a44ca",
   "metadata": {},
   "outputs": [],
   "source": [
    "# Initialize the Azure OpenAI client\n",
    "client = AzureOpenAI(\n",
    "    azure_endpoint = endpoint,\n",
    "    api_key= api_key,\n",
    "    api_version=\"2024-05-01-preview\")"
   ]
  },
  {
   "cell_type": "code",
   "execution_count": 12,
   "id": "16449604-ec6d-4dd5-ad66-79d3b51e7d1d",
   "metadata": {},
   "outputs": [],
   "source": [
    "# Load the link_map created, that links every document with a source link\n",
    "with open(\"document_links.json\", \"r\", encoding=\"utf-8\") as f:\n",
    "    doc_link_map = json.load(f)"
   ]
  },
  {
   "cell_type": "code",
   "execution_count": 13,
   "id": "3c7ac218-8ef1-4f29-a41c-9f982267071e",
   "metadata": {},
   "outputs": [
    {
     "name": "stdout",
     "output_type": "stream",
     "text": [
      "Loaded existing vector store from file.\n"
     ]
    }
   ],
   "source": [
    "# Load or upload documents \n",
    "if os.path.exists(vector_data):\n",
    "    with open(vector_data, \"rb\") as file:\n",
    "        vector_store = pickle.load(file)\n",
    "    print(\"Loaded existing vector store from file.\")\n",
    "else:\n",
    "    print(\"Uploading documents and creating vector store...\")\n",
    "    vector_store = load_and_upload_files(client, link_map=doc_link_map)\n",
    "    print(\"Documents uploaded.\")"
   ]
  },
  {
   "cell_type": "markdown",
   "id": "5d9863e7-061e-4136-afaa-735155323ce4",
   "metadata": {},
   "source": [
    "# Rules/Prompts for the Model"
   ]
  },
  {
   "cell_type": "code",
   "execution_count": 14,
   "id": "b6040830-3f77-429d-8418-22a6104b1c05",
   "metadata": {},
   "outputs": [],
   "source": [
    "# Role of the model\n",
    "aRole = (\n",
    "    \"És um assistente virtual da seguradora Fidelidade, fiável e rápido, que apoia os colaboradores durante os atendimentos a clientes.\\n\"\n",
    "    \"O teu objetivo é fornecer respostas claras, corretas e rápidas, ajudando os colaboradores da Fidelidade a responder com confiança.\\n\"\n",
    "    \"Entendes o contexto da conversa e considera sempre as perguntas anteriores para manter coerência nas respostas.\\n\"\n",
    "    \"Se o colaborador fizer uma pergunta de seguimento, lembre-se do que foi dito antes.\\n\"\n",
    "    \"Não interages diretamente com o cliente final, mas atua como um suporte eficiente para os colaboradores.\\n\"\n",
    "    \"Responde de forma natural, amigável e clara.\"\n",
    ")"
   ]
  },
  {
   "cell_type": "code",
   "execution_count": 15,
   "id": "d9b0e4cf-897f-487d-b3ac-2079036b539c",
   "metadata": {},
   "outputs": [],
   "source": [
    "# open prompt rules txt\n",
    "with open(\"prompt_rules.txt\", \"r\", encoding=\"utf-8\") as f:\n",
    "    prompt_rules = f.read()"
   ]
  },
  {
   "cell_type": "code",
   "execution_count": 16,
   "id": "d2d53309-fc05-4bde-a980-3f0ecfe44bc6",
   "metadata": {},
   "outputs": [
    {
     "name": "stdout",
     "output_type": "stream",
     "text": [
      "Using existing assistant: asst_afxDUFnwot8aRxGIbDcmPyiv\n"
     ]
    }
   ],
   "source": [
    "# Load or create assistant using existing vector store\n",
    "\n",
    "# Try load existing assistant\n",
    "if os.path.exists(assistantFilename):\n",
    "    with open(assistantFilename, \"r\") as file:\n",
    "        assistant_id = file.read().strip()\n",
    "\n",
    "    # Check if assistant exists in azure\n",
    "    exists, assistant = check_assistant_exists(client, assistant_id)\n",
    "    if exists:\n",
    "        # Load assistant with new role\n",
    "        assistant = client.beta.assistants.update(\n",
    "            assistant_id=assistant_id,\n",
    "            instructions=aRole, \n",
    "            tool_resources={    # The documents made available for the model\n",
    "                \"file_search\": {\n",
    "                    \"vector_store_ids\": [vector_store.id]\n",
    "                }\n",
    "            }\n",
    "        )\n",
    "        print(\"Using existing assistant:\", assistant_id)\n",
    "\n",
    "    else:  # If assistant exist but not valid in azure\n",
    "        print(\"Assistant ID found, but not valid in API. Creating new one...\")\n",
    "        assistant_id = None   # Marker to create new assistant \n",
    "\n",
    "else:   # If no assistant found\n",
    "    print(\"ℹNo assistant ID file found. Creating new assistant...\")\n",
    "    assistant_id = None   # Marker to create new assistant\n",
    "\n",
    "# No valid assistant --> create new one\n",
    "if assistant_id is None:\n",
    "    print(\"Creating new assistant...\")\n",
    "    assistant = create_assistant(client, aRole, assistantFilename)\n",
    "    assistant_id = assistant.id\n",
    "\n",
    "    assistant = client.beta.assistants.update(\n",
    "        assistant_id=assistant.id,\n",
    "        tool_resources={\n",
    "            \"file_search\": {\n",
    "                \"vector_store_ids\": [vector_store.id]\n",
    "            }\n",
    "        }\n",
    "    )\n",
    "    print(\"New assistant created and linked.\")"
   ]
  },
  {
   "cell_type": "code",
   "execution_count": 17,
   "id": "906f95df-0517-4978-bbd9-64fe28825cde",
   "metadata": {},
   "outputs": [],
   "source": [
    "# New thread\n",
    "thread = create_thread(client)"
   ]
  },
  {
   "cell_type": "markdown",
   "id": "dfcad7ea-1835-4ff8-8a1e-42cc7c018293",
   "metadata": {},
   "source": [
    "# Testing the Chat Bot"
   ]
  },
  {
   "cell_type": "code",
   "execution_count": 18,
   "id": "83407ae5-a15a-42ad-83b7-4422deeb384a",
   "metadata": {},
   "outputs": [
    {
     "name": "stdout",
     "output_type": "stream",
     "text": [
      "You: o que sabes sobre fidelidade ppr evoluir?\n",
      "Thinking...\n",
      "Assistant: O PPR Evoluir da Fidelidade é um produto inovador que combina proteção e rentabilidade, adaptando-se automaticamente à idade do cliente ao longo do tempo. Aqui estão os principais pontos sobre este plano de poupança-reforma:\n",
      "\n",
      "- **Componente de Proteção**:\n",
      "  - Garantia de capital e rendimento, com uma taxa de juro de **2,20%** até junho de 2025.\n",
      "  - A alocação a esta componente é crescente, atingindo até **60%** conforme a idade do cliente.\n",
      "\n",
      "- **Componente Ativa**:\n",
      "  - Focada no aumento da rentabilidade através de uma carteira diversificada, porém sem garantias de capital ou rendimento.\n",
      "\n",
      "- **Estratégia de Ciclo de Vida**:\n",
      "  - Início com maior potencial de retorno para idades mais jovens, com diminuição do risco à medida que se aproxima a reforma.\n",
      "\n",
      "- **Simplicidade**:\n",
      "  - O cliente não precisa intervir na gestão do produto, pois a alocação é feita automaticamente.\n",
      "\n",
      "- **Benefícios fiscais**:\n",
      "  - É também uma oportunidade para beneficiar de vantagens fiscais associadas ao PPR.\n",
      "\n",
      "O PPR Evoluir é, portanto, uma solução que se adapta às várias fases da vida do cliente, promovendo uma gestão equilibrada de risco e retorno. Para mais detalhes, consulte o site oficial da Fidelidade: [Fidelidade PPR Evoluir](https://poupareinvestir.fidelidade.pt/ppr-evoluir).\n",
      "You: e qual diferenca para savings?\n",
      "Thinking...\n",
      "Assistant: As diferenças entre o PPR Evoluir e o My Savings da Fidelidade são as seguintes:\n",
      "\n",
      "### PPR Evoluir:\n",
      "- **Objetivo**: Focado em poupança para a reforma, combinando proteção e rentabilidade, ajustando-se à idade do cliente.\n",
      "- **Componentes**:\n",
      "  - **Componente de Proteção**: Garante capital e rendimento até um máximo de 60% da alocação total, com uma taxa de juro atual de **2,20%**.\n",
      "  - **Componente Ativa**: Não oferece garantia de capital nem de rendimento, busca aumentar a rentabilidade através de investimentos diversificados.\n",
      "- **Características**:\n",
      "  - **Ciclo de Vida**: A alocação entre as componentes é automática conforme a idade do cliente, favorecendo menor risco ao se aproximar da reforma.\n",
      "  - **Benefícios Fiscais**: Oferece vantagens fiscais diretamente associadas a PPR, como deduções no IRS.\n",
      "\n",
      "### My Savings:\n",
      "- **Objetivo**: Permite aos clientes poupar para objetivos variados, como viagens ou compra de bens, mantendo flexibilidade nas entregas.\n",
      "- **Características**:\n",
      "  - **Gestão Dinâmica**: O cliente define o objetivo e o valor necessário, podendo gerir as poupanças de forma simples e sem custos adicionais.\n",
      "  - **Flexibilidade**: Oferece a possibilidade de entregas pontuais ou periódicas a qualquer momento, sem necessidade de um contrato tão formal quanto um PPR.\n",
      "  - **Visualização**: Possui um aplicativo que facilita o acompanhamento das poupanças e investimentos feitos.\n",
      "\n",
      "Em resumo, enquanto o PPR Evoluir é um produto estruturado para a preparação da reforma com componentes garantidas e uma estratégia de ciclo de vida, o My Savings oferece mais flexibilidade e uma abordagem voltada para poupanças gerais para objetivos variados.\n",
      "--session closed--\n"
     ]
    }
   ],
   "source": [
    "# class making able that pressing enter works as sending\n",
    "class EnterTextEdit(QTextEdit):\n",
    "    enter_pressed = pyqtSignal()\n",
    "\n",
    "    def keyPressEvent(self, event):\n",
    "        if event.key() == Qt.Key_Return and not (event.modifiers() & Qt.ShiftModifier):\n",
    "            self.enter_pressed.emit()\n",
    "        else:\n",
    "            super().keyPressEvent(event)\n",
    "\n",
    "\n",
    "#create new background thread to run input/response, so main window runs more fluent\n",
    "class AssistantWorker(QThread):\n",
    "    finished = pyqtSignal(str)\n",
    "\n",
    "    def __init__(self, user_input, prompt_rules, client, thread, assistant, displayedMessagesIDs):\n",
    "        super().__init__()\n",
    "        self.user_input = user_input\n",
    "        self.prompt_rules = prompt_rules\n",
    "        self.client = client\n",
    "        self.thread = thread\n",
    "        self.assistant = assistant\n",
    "        self.displayedMessagesIDs = displayedMessagesIDs\n",
    "\n",
    "    def run(self):\n",
    "        full_prompt = f\"{self.prompt_rules}\\n\\nUser question: {self.user_input}\"\n",
    "        response = send_message_to_assistant(\n",
    "            self.client, self.thread, self.assistant,\n",
    "            self.user_input, full_prompt, self.displayedMessagesIDs\n",
    "        )\n",
    "        self.finished.emit(response)\n",
    "\n",
    "# main gui\n",
    "class AssistantGUI(QWidget):\n",
    "    # location, size, layout of widgets\n",
    "    def __init__(self):\n",
    "        super().__init__()\n",
    "        self.setWindowTitle(\"Assistant Chat\")\n",
    "        self.resize(700, 500)\n",
    "        layout = QVBoxLayout()\n",
    "\n",
    "        self.output = QTextBrowser()\n",
    "        self.output.setReadOnly(True)\n",
    "        self.output.setOpenExternalLinks(True)\n",
    "        layout.addWidget(QLabel(\"Chat history\"))\n",
    "        layout.addWidget(self.output)\n",
    "\n",
    "        self.input = EnterTextEdit()\n",
    "        self.input.setFixedHeight(50)\n",
    "        self.input.enter_pressed.connect(self.handle_input)\n",
    "        layout.addWidget(QLabel(\"Question\"))\n",
    "        layout.addWidget(self.input)\n",
    "\n",
    "        self.button = QPushButton(\"Send\")\n",
    "        self.button.clicked.connect(self.handle_input)\n",
    "        layout.addWidget(self.button)\n",
    "\n",
    "        self.setLayout(layout)\n",
    "\n",
    "    # so links can be clickable\n",
    "    def convert_links_to_html(self, text):\n",
    "        # Regex, das eine URL abgrenzt und aufhört bei Satzzeichen oder Leerzeichen\n",
    "        pattern = r'\\b(https?://[^\\s<>\"\\'\\]\\[)]+)'\n",
    "    \n",
    "        def replacer(match):\n",
    "            url = match.group(1).rstrip('.,;:!?')\n",
    "            trailing = match.group(1)[len(url):]\n",
    "            return f'<a href=\"{url}\">{url}</a>{trailing}'\n",
    "    \n",
    "        return re.sub(pattern, replacer, text)\n",
    "\n",
    "    # also for links\n",
    "    def convert_markdown_to_html(self, text):\n",
    "        return markdown.markdown(text)\n",
    "\n",
    "    # make link in response clickable\n",
    "    def handle_response(self, response):\n",
    "        response_html = self.convert_markdown_to_html(response)\n",
    "        self.output.append(f\"Assistant: {response_html}\")\n",
    "        print(f\"Assistant: {response}\")\n",
    "\n",
    "    # function to handle input\n",
    "    def handle_input(self):\n",
    "        user_input = self.input.toPlainText().strip()\n",
    "        if not user_input:\n",
    "            return\n",
    "\n",
    "        self.output.append(f\"You: {user_input}\")\n",
    "        self.input.clear()\n",
    "\n",
    "        if user_input.strip().upper() == \"quit\":\n",
    "            self.output.append(\"Assistant: Obrigado pelo seu contacto. Sempre que precisar estarei aqui. Para que a vida não pare.\")\n",
    "            self.button.setEnabled(False)\n",
    "\n",
    "        elif user_input.strip().upper() == \"NOVA CONVERSA\":\n",
    "            global thread\n",
    "            self.output.append(\"Assistant: Iniciando nova conversa...\")\n",
    "            thread = create_thread(client)\n",
    "            \n",
    "        else:\n",
    "            self.output.append(\"Assistant: (thinking...)\")\n",
    "            QApplication.processEvents()\n",
    "        \n",
    "            self.worker = AssistantWorker(user_input, prompt_rules, client, thread, assistant, displayedMessagesIDs)\n",
    "            self.worker.finished.connect(self.handle_response)\n",
    "            self.worker.start()\n",
    "\n",
    "    # to cleanly terminate the session by closing windows\n",
    "    def closeEvent(self, event):\n",
    "        self.output.append(\"Assistant: Session closes, goodbye!\")\n",
    "        print(\"--session closed--\")\n",
    "    \n",
    "        # stop the thread also\n",
    "        if hasattr(self, 'worker') and self.worker.isRunning():\n",
    "            self.worker.quit()\n",
    "            self.worker.wait()\n",
    "    \n",
    "        event.accept() \n",
    "\n",
    "\n",
    "if __name__ == \"__main__\":\n",
    "    app = QApplication.instance() or QApplication(sys.argv)\n",
    "    gui = AssistantGUI()\n",
    "    gui.show()\n",
    "    app.exec_()"
   ]
  }
 ],
 "metadata": {
  "kernelspec": {
   "display_name": "Python 3 (ipykernel)",
   "language": "python",
   "name": "python3"
  },
  "language_info": {
   "codemirror_mode": {
    "name": "ipython",
    "version": 3
   },
   "file_extension": ".py",
   "mimetype": "text/x-python",
   "name": "python",
   "nbconvert_exporter": "python",
   "pygments_lexer": "ipython3",
   "version": "3.12.3"
  }
 },
 "nbformat": 4,
 "nbformat_minor": 5
}
