{
 "cells": [
  {
   "cell_type": "markdown",
   "id": "a17687e3",
   "metadata": {},
   "source": [
    "<h1 align=\"center\" style=\"margin-bottom: 20px;\">Business Cases with Data Science 2024-25</h1>\n",
    "<h3 align=\"center\" style=\"margin-top: 20px; margin-bottom: 20px;\">Case 4: AI - Powered Chatbot</h3>\n",
    "<h5 align=\"center\" style=\"margin-top: 20px; margin-bottom: 0px;\">Notebook 1 \n",
    "\n",
    "### Group B - Members:\n",
    "- Ana Marta Azinheira | 20240496@novaims.unl.pt\n",
    "- Bráulio Damba | 20240007@novaims.unl.pt\n",
    "- Jan-Louis Schneider | 20240506@novaims.unl.pt\n",
    "- Sofia Jacinto | 20240598@novaims.unl.pt"
   ]
  },
  {
   "cell_type": "markdown",
   "id": "8a1dabef",
   "metadata": {},
   "source": [
    "# Notebook Objective"
   ]
  },
  {
   "cell_type": "markdown",
   "id": "75ef281f",
   "metadata": {},
   "source": [
    "- This notebook is designed to test our AI-Powered Chatbot. Throughout the notebook, we develop and refine various prompts to interact with our model. To support this notebook, we include a separate .py file containing the core functions used by the chatbot. At the end of the notebook, users will be able to test the chatbot in a simulated environment."
   ]
  },
  {
   "cell_type": "markdown",
   "id": "cf86eeda",
   "metadata": {},
   "source": [
    "# Importing Libraries and Others"
   ]
  },
  {
   "cell_type": "code",
   "execution_count": 1,
   "id": "3e901f72-213a-4fa1-a3f3-74200a26d76a",
   "metadata": {},
   "outputs": [],
   "source": [
    "# Imports\n",
    "import os\n",
    "import json\n",
    "import time\n",
    "import pandas as pd\n",
    "from openai import AzureOpenAI\n",
    "from PIL import Image\n",
    "from IPython.display import Markdown, display\n",
    "import pickle\n",
    "from datetime import datetime, timedelta\n",
    "import fitz\n",
    "from docx import Document  \n",
    "\n",
    "#pip install pymupdf python-docx\n",
    "#!pip install python-docx"
   ]
  },
  {
   "cell_type": "code",
   "execution_count": 2,
   "id": "65e2116f-d39b-4b6f-acf1-de5acecb077a",
   "metadata": {},
   "outputs": [],
   "source": [
    "# Import methods from utils.py\n",
    "from utils import (\n",
    "    create_assistant,\n",
    "    create_thread,\n",
    "    check_assistant_exists,\n",
    "    load_and_upload_files,\n",
    "    add_message_to_thread,\n",
    "    display_messages,\n",
    "    send_message_to_assistant\n",
    ")"
   ]
  },
  {
   "cell_type": "code",
   "execution_count": null,
   "id": "16f737eb-b670-4d4d-a1ec-a6e824207058",
   "metadata": {},
   "outputs": [],
   "source": [
    "#AQUI VCS PRECISAM COLOCAR O KEY DE VCS. ENTRAM NO PDF 7-LargeLanguageModels  no moodle do curso, a partir da pagina 56 tá explicado. é bem facil\n",
    "# dps de entrar no azure open ai lá e tipo terem feito o registro, só precisam ir para o chat/playground e dps clicar em 'view code' e dps tiram de lá o \n",
    "# key de vcs, que esta lá ocultado e colocam esse key aqui em baixo. o endpoint já tá cert e deve ficar assim\n",
    "\n",
    "# Set API key and endpoint\n",
    "api_key = 'yourAPIKey'\n",
    "endpoint = 'https://ai-bcds.openai.azure.com/'"
   ]
  },
  {
   "cell_type": "code",
   "execution_count": 4,
   "id": "ea2708ce-6dd9-4bb9-bb59-b32dace93708",
   "metadata": {},
   "outputs": [],
   "source": [
    "# Constants\n",
    "current_folder = os.getcwd()\n",
    "data_folder = current_folder\n",
    "data_folder_full_path = os.path.abspath(data_folder)\n",
    "\n",
    "assistantFilename = 'AssistantID.TXT'\n",
    "assistant_id = None\n",
    "assistant = None\n",
    "vector_data = 'vector_store.pkl'   # Where uploaded data will be/is saved\n",
    "\n",
    "displayedMessagesIDs = []"
   ]
  },
  {
   "cell_type": "code",
   "execution_count": 5,
   "id": "3127ff98-46b7-4687-87cb-8c34e9d08707",
   "metadata": {},
   "outputs": [],
   "source": [
    "# Initialize the Azure OpenAI client\n",
    "client = AzureOpenAI(\n",
    "    azure_endpoint = endpoint,\n",
    "    api_key= api_key,\n",
    "    api_version=\"2024-05-01-preview\")"
   ]
  },
  {
   "cell_type": "code",
   "execution_count": 6,
   "id": "a8e86188-c46d-44da-b500-d7b0bcfab9af",
   "metadata": {},
   "outputs": [],
   "source": [
    "# Load the link_map created, that links every document with a source link\n",
    "with open(\"document_links.json\", \"r\", encoding=\"utf-8\") as f:\n",
    "    doc_link_map = json.load(f)"
   ]
  },
  {
   "cell_type": "code",
   "execution_count": 7,
   "id": "7cd2817b-8b3a-4639-9287-dd7581e99b25",
   "metadata": {},
   "outputs": [
    {
     "name": "stdout",
     "output_type": "stream",
     "text": [
      "Loaded existing vector store from file.\n"
     ]
    }
   ],
   "source": [
    "# se já existe o vector_store.pkl e nao mudaram nada, isse vai ser bué rapido. IMPORTANTE, SE MEXEM ALGO NOS DOCUMENTOS, TEM QUE\n",
    "# APAGAR O vector_store.pkl lá na pasta, E CORREM ISSO AQUI, ai vai demorar tipo 15 min pq ele carrega todos os documentos dnv, mas é isso\n",
    "\n",
    "# Load or upload documents \n",
    "if os.path.exists(vector_data):\n",
    "    with open(vector_data, \"rb\") as file:\n",
    "        vector_store = pickle.load(file)\n",
    "    print(\"Loaded existing vector store from file.\")\n",
    "else:\n",
    "    print(\"Uploading documents and creating vector store...\")\n",
    "    vector_store = load_and_upload_files(client, link_map=doc_link_map)\n",
    "    print(\"Documents uploaded.\")"
   ]
  },
  {
   "cell_type": "markdown",
   "id": "5378bd33",
   "metadata": {},
   "source": [
    "# Rules/Prompts for the Model"
   ]
  },
  {
   "cell_type": "code",
   "execution_count": 8,
   "id": "ed573a65-c1e3-4974-b191-a8331af02bf0",
   "metadata": {},
   "outputs": [],
   "source": [
    "# Role of the model\n",
    "aRole = (\n",
    "    \"És um assistente virtual fiável e rápido que apoia os colaboradores da seguradora Fidelidade.\\n\"\n",
    "    \"O teu objetivo é fornecer respostas claras e corretas durante os atendimentos a clientes, \"\n",
    "    \"especialmente quando o colaborador precisa de consultar informações rapidamente.\\n\"\n",
    "    \"Não interages diretamente com o cliente final, mas ajudas o colaborador da Fidelidade a responder com confiança.\"\n",
    ")\n",
    "\n",
    "# Some rules/prompts for the model\n",
    "prompt_rules = (\n",
    "    \"Rules:\\n\"\n",
    "    \"Responda somente se a resposta puder ser encontrada claramente nos documentos fornecidos.\\n\"\n",
    "    \"Se não tiver certeza, diga: \\\"Desculpe, não tenho informação suficiente para responder com precisão.\\\" Não invente.\\n\"\n",
    "    \"Se a mensagem for apenas uma saudação, responda de forma rápida e direcione o colaborador para fazer uma pergunta específica.\\n\"\n",
    "    \"\\n\"\n",
    "    \"Use uma linguagem clara, direta e profissional, adequada para que o colaborador possa repassar ao cliente.\\n\"\n",
    "    \"Seja direto, útil e evite respostas muito longas. Quando possível, responda com listas curtas (bullet points).\\n\"\n",
    "    \"\\n\"\n",
    "    \"- Sempre que uma resposta for baseada em um documento, verifique se no final do texto existe uma linha que começa com 'Fonte:'.\\n\"\n",
    "    \"- Se existir, adicione esse link como fonte no final da resposta com a frase: 'Fonte: [link]'.\\n\"\n",
    "    \"- Se não houver fonte clara, responda normalmente.\\n\"\n",
    "    \"- Nunca invente links. Use apenas os que já estão presentes no texto fornecido.\\n\"\n",
    "    \"\\n\"\n",
    "    \"IMPORTANTE: Cada documento inclui várias vezes no início o campo \\\"Categoria:\\\", que indica se o conteúdo é da Fidelidade ou de um concorrente.\\n\"\n",
    "    \"\\n\"\n",
    "    \"• Se Categoria for **Fidelidade**, pode usar livremente o conteúdo para responder sobre produtos da Fidelidade.\\n\"\n",
    "    \"• Se Categoria for **Concorrente**, use essas informações **apenas** para comparações quando for solicitado pelo usuário.\\n\"\n",
    "    \"  NUNCA use informações de concorrentes para explicar, descrever, recomendar ou apresentar produtos da Fidelidade.\\n\"\n",
    "    \"\\n\"\n",
    "    \"Regra de ouro: **Nunca utilize conteúdo de documentos com 'Categoria: Concorrente' para responder diretamente a perguntas sobre produtos da Fidelidade.**\\n\"\n",
    "    \"\\n\"\n",
    "    \"Instruções adicionais:\\n\"\n",
    "    \"– Se a pergunta estiver presente nos Q&As dos documentos, use a resposta exatamente como está lá.\\n\"\n",
    "    \"– Se a pergunta não estiver nos documentos, mas for básica e relacionada ao tema (ex: conceitos de seguros), pode responder de forma genérica.\\n\"\n",
    "    \"– Se a pergunta não tiver relação com o tema, responda: \\\"Essa pergunta não se enquadra no suporte oferecido por este assistente. Consulte um responsável autorizado.\\\"\\n\"\n",
    "    \"– Se usar informações de documentos, **forneça sempre o link da página correspondente** como referência.\\n\"\n",
    "    \"– Se não souber a resposta, mas a pergunta for relevante, indique o site oficial da Fidelidade como fonte adicional.\\n\"\n",
    "    \"– Para valores que mudam com o tempo (ex: rentabilidades, taxas, prazos), não afirme números fixos a menos que estejam claramente presentes no documento com fonte.\\n\"\n",
    "    \"– Quando responder a comparações entre produtos, use estrutura neutra com listas ou tabelas curtas, sem emitir opinião.\\n\"\n",
    "    \"– Se a pergunta for ambígua (ex: \\\"Qual é o melhor?\\\"), peça mais contexto antes de responder.\\n\"\n",
    "    \"– Para dúvidas complexas ou fora do escopo, oriente o colaborador a encaminhar para um especialista humano.\\n\"\n",
    "    \"– Quando não for possível responder totalmente, pode encerrar com: \\\"Para mais detalhes, consulte o site oficial da Fidelidade ou os documentos fornecidos.\\\"\\n\"\n",
    "    \"\\n\"\n",
    "    \"# ORIENTAÇÃO COMERCIAL ADICIONAL:\\n\"\n",
    "    \"- Sempre que possível, destaque os benefícios do produto My Savings de forma clara e natural.\\n\"\n",
    "    \"- Use uma linguagem que evidencie vantagens para o cliente (ex: segurança, flexibilidade, poupança fiscal, ausência de comissões, simplicidade digital).\\n\"\n",
    "    \"- Quando responder sobre produtos da Fidelidade, inclua elementos como:\\n\"\n",
    "    \"  • Gestão profissional\\n\"\n",
    "    \"  • Solidez da marca Fidelidade\\n\"\n",
    "    \"  • Produtos pensados para o cliente final\\n\"\n",
    "    \"- Se fizer sentido, use frases introdutórias comerciais como:\\n\"\n",
    "    \"  • “O My Savings é ideal para quem valoriza…”\\n\"\n",
    "    \"  • “Uma solução simples, segura e com benefícios fiscais.”\\n\"\n",
    "    \"  • “Pensado para o cliente que procura tranquilidade no futuro.”\\n\"\n",
    "    \"- Sempre que relevante, organize a resposta em bullets destacando os benefícios principais.\\n\"\n",
    "    \"- Nunca invente benefícios que não estão nos documentos. Apenas realce o que já está lá, com linguagem orientada ao cliente.\\n\"\n",
    "    \"\\n\"\n",
    "    \"# EXEMPLO DE FORMATO DE RESPOSTA:\\n\"\n",
    "    \"O My Savings é uma solução de poupança com perfil conservador, ideal para quem valoriza segurança e tranquilidade:\\n\"\n",
    "    \"• Capital garantido em determinadas condições\\n\"\n",
    "    \"• Vantagens fiscais associadas ao regime PPR\\n\"\n",
    "    \"• Sem comissões de subscrição ou resgate\\n\"\n",
    "    \"• Gestão profissional pela Fidelidade\\n\"\n",
    "    \"Fonte: [link]\\n\"\n",
    ")"
   ]
  },
  {
   "cell_type": "code",
   "execution_count": 9,
   "id": "2c32c682-d7cf-4922-816b-79f63bd4dc5d",
   "metadata": {},
   "outputs": [
    {
     "name": "stdout",
     "output_type": "stream",
     "text": [
      "Using existing assistant: asst_afxDUFnwot8aRxGIbDcmPyiv\n"
     ]
    }
   ],
   "source": [
    "# Load or create assistant using existing vector store\n",
    "\n",
    "# Try load existing assistant\n",
    "if os.path.exists(assistantFilename):\n",
    "    with open(assistantFilename, \"r\") as file:\n",
    "        assistant_id = file.read().strip()\n",
    "\n",
    "    # Check if assistant exists in azure\n",
    "    exists, assistant = check_assistant_exists(client, assistant_id)\n",
    "    if exists:\n",
    "        # Load assistant with new role\n",
    "        assistant = client.beta.assistants.update(\n",
    "            assistant_id=assistant_id,\n",
    "            instructions=aRole, \n",
    "            tool_resources={    # The documents made available for the model\n",
    "                \"file_search\": {\n",
    "                    \"vector_store_ids\": [vector_store.id]\n",
    "                }\n",
    "            }\n",
    "        )\n",
    "        print(\"Using existing assistant:\", assistant_id)\n",
    "\n",
    "    else:  # If assistant exist but not valid in azure\n",
    "        print(\"Assistant ID found, but not valid in API. Creating new one...\")\n",
    "        assistant_id = None   # Marker to create new assistant \n",
    "\n",
    "else:   # If no assistant found\n",
    "    print(\"ℹNo assistant ID file found. Creating new assistant...\")\n",
    "    assistant_id = None   # Marker to create new assistant\n",
    "\n",
    "# No valid assistant --> create new one\n",
    "if assistant_id is None:\n",
    "    print(\"Creating new assistant...\")\n",
    "    assistant = create_assistant(client, aRole, assistantFilename)\n",
    "    assistant_id = assistant.id\n",
    "\n",
    "    assistant = client.beta.assistants.update(\n",
    "        assistant_id=assistant.id,\n",
    "        tool_resources={\n",
    "            \"file_search\": {\n",
    "                \"vector_store_ids\": [vector_store.id]\n",
    "            }\n",
    "        }\n",
    "    )\n",
    "    print(\"New assistant created and linked.\")"
   ]
  },
  {
   "cell_type": "code",
   "execution_count": 10,
   "id": "af98d633-ce5f-4b89-8b98-1a4cb9e98ad1",
   "metadata": {},
   "outputs": [],
   "source": [
    "# New thread\n",
    "thread = create_thread(client)"
   ]
  },
  {
   "cell_type": "markdown",
   "id": "6df7b1f2",
   "metadata": {},
   "source": [
    "# Testing the Chat Bot"
   ]
  },
  {
   "cell_type": "code",
   "execution_count": null,
   "id": "0829cc55-8380-48a5-a7d2-3d5bfa946fac",
   "metadata": {},
   "outputs": [],
   "source": [
    "# WRITE 'Obrigado, até à próxima!' TO TERMINATE CHAT or WRITE 'Nova Conversa' to reset chat\n",
    "\n",
    "while True:\n",
    "    user_input = input(\"You: \")\n",
    "    full_prompt = f\"{prompt_rules}\\n\\nUser question: {user_input}\"\n",
    "\n",
    "    if user_input.strip().upper() == \"Obrigado, até à próxima!\":\n",
    "        print(\"Obrigado pelo seu contacto. Sempre que precisar estarei aqui. Para que a vida não pare.\")\n",
    "        break\n",
    "    elif user_input.strip().upper() == \"Nova Conversa\":\n",
    "        print(\"Starting a new chat...\")\n",
    "        thread = create_thread(client)\n",
    "    else:\n",
    "        send_message_to_assistant(client, thread, assistant, user_input, full_prompt, displayedMessagesIDs)"
   ]
  }
 ],
 "metadata": {
  "kernelspec": {
   "display_name": "base",
   "language": "python",
   "name": "python3"
  },
  "language_info": {
   "codemirror_mode": {
    "name": "ipython",
    "version": 3
   },
   "file_extension": ".py",
   "mimetype": "text/x-python",
   "name": "python",
   "nbconvert_exporter": "python",
   "pygments_lexer": "ipython3",
   "version": "3.12.2"
  }
 },
 "nbformat": 4,
 "nbformat_minor": 5
}
