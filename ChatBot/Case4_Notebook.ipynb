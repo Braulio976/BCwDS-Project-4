{
 "cells": [
  {
   "cell_type": "markdown",
   "id": "a17687e3",
   "metadata": {},
   "source": [
    "<h1 align=\"center\" style=\"margin-bottom: 20px;\">Business Cases with Data Science 2024-25</h1>\n",
    "<h3 align=\"center\" style=\"margin-top: 20px; margin-bottom: 20px;\">Case 4: AI - Powered Chatbot</h3>\n",
    "<h5 align=\"center\" style=\"margin-top: 20px; margin-bottom: 0px;\">Notebook 1 \n",
    "\n",
    "### Group B - Members:\n",
    "- Ana Marta Azinheira | 20240496@novaims.unl.pt\n",
    "- Bráulio Damba | 20240007@novaims.unl.pt\n",
    "- Jan-Louis Schneider | 20240506@novaims.unl.pt\n",
    "- Sofia Jacinto | 20240598@novaims.unl.pt"
   ]
  },
  {
   "cell_type": "markdown",
   "id": "8a1dabef",
   "metadata": {},
   "source": [
    "# Notebook Objective"
   ]
  },
  {
   "cell_type": "markdown",
   "id": "75ef281f",
   "metadata": {},
   "source": [
    "- This notebook is designed to test our AI-Powered Chatbot. Throughout the notebook, we develop and refine various prompts to interact with our model. To support this notebook, we include a separate .py file containing the core functions used by the chatbot. At the end of the notebook, users will be able to test the chatbot in a simulated environment."
   ]
  },
  {
   "cell_type": "markdown",
   "id": "cf86eeda",
   "metadata": {},
   "source": [
    "# Importing Libraries and Others"
   ]
  },
  {
   "cell_type": "code",
   "execution_count": 3,
   "id": "3e901f72-213a-4fa1-a3f3-74200a26d76a",
   "metadata": {},
   "outputs": [],
   "source": [
    "# Imports\n",
    "import os\n",
    "import json\n",
    "import time\n",
    "import pandas as pd\n",
    "from openai import AzureOpenAI\n",
    "from PIL import Image\n",
    "from IPython.display import Markdown, display\n",
    "import pickle\n",
    "from datetime import datetime, timedelta\n",
    "import fitz\n",
    "from docx import Document  \n",
    "\n",
    "#pip install pymupdf python-docx\n",
    "#!pip install python-docx\n",
    "#!pip install streamlit"
   ]
  },
  {
   "cell_type": "code",
   "execution_count": 4,
   "id": "65e2116f-d39b-4b6f-acf1-de5acecb077a",
   "metadata": {},
   "outputs": [],
   "source": [
    "# Import methods from utils.py\n",
    "from utils import (\n",
    "    create_assistant,\n",
    "    create_thread,\n",
    "    check_assistant_exists,\n",
    "    load_and_upload_files,\n",
    "    add_message_to_thread,\n",
    "    display_messages,\n",
    "    send_message_to_assistant\n",
    ")"
   ]
  },
  {
   "cell_type": "code",
   "execution_count": null,
   "id": "16f737eb-b670-4d4d-a1ec-a6e824207058",
   "metadata": {},
   "outputs": [],
   "source": [
    "# Set API key and endpoint\n",
    "api_key = 'yourAPIKey'\n",
    "endpoint = 'https://ai-bcds.openai.azure.com/'"
   ]
  },
  {
   "cell_type": "code",
   "execution_count": 6,
   "id": "ea2708ce-6dd9-4bb9-bb59-b32dace93708",
   "metadata": {},
   "outputs": [],
   "source": [
    "# Constants\n",
    "current_folder = os.getcwd()\n",
    "data_folder = current_folder\n",
    "data_folder_full_path = os.path.abspath(data_folder)\n",
    "\n",
    "assistantFilename = 'AssistantID.TXT'\n",
    "assistant_id = None\n",
    "assistant = None\n",
    "vector_data = 'vector_store.pkl'   # Where uploaded data will be/is saved\n",
    "\n",
    "displayedMessagesIDs = []"
   ]
  },
  {
   "cell_type": "code",
   "execution_count": 7,
   "id": "3127ff98-46b7-4687-87cb-8c34e9d08707",
   "metadata": {},
   "outputs": [],
   "source": [
    "# Initialize the Azure OpenAI client\n",
    "client = AzureOpenAI(\n",
    "    azure_endpoint = endpoint,\n",
    "    api_key= api_key,\n",
    "    api_version=\"2024-05-01-preview\")"
   ]
  },
  {
   "cell_type": "code",
   "execution_count": 8,
   "id": "a8e86188-c46d-44da-b500-d7b0bcfab9af",
   "metadata": {},
   "outputs": [],
   "source": [
    "# Load the link_map created, that links every document with a source link\n",
    "with open(\"document_links.json\", \"r\", encoding=\"utf-8\") as f:\n",
    "    doc_link_map = json.load(f)"
   ]
  },
  {
   "cell_type": "code",
   "execution_count": 9,
   "id": "7cd2817b-8b3a-4639-9287-dd7581e99b25",
   "metadata": {},
   "outputs": [
    {
     "name": "stdout",
     "output_type": "stream",
     "text": [
      "Loaded existing vector store from file.\n"
     ]
    }
   ],
   "source": [
    "# Load or upload documents \n",
    "if os.path.exists(vector_data):\n",
    "    with open(vector_data, \"rb\") as file:\n",
    "        vector_store = pickle.load(file)\n",
    "    print(\"Loaded existing vector store from file.\")\n",
    "else:\n",
    "    print(\"Uploading documents and creating vector store...\")\n",
    "    vector_store = load_and_upload_files(client, link_map=doc_link_map)\n",
    "    print(\"Documents uploaded.\")"
   ]
  },
  {
   "cell_type": "markdown",
   "id": "5378bd33",
   "metadata": {},
   "source": [
    "# Rules/Prompts for the Model"
   ]
  },
  {
   "cell_type": "code",
   "execution_count": 10,
   "id": "dd965101",
   "metadata": {},
   "outputs": [],
   "source": [
    "# Role of the model\n",
    "aRole = (\n",
    "    \"És um assistente virtual da seguradora Fidelidade, fiável e rápido, que apoia os colaboradores durante os atendimentos a clientes.\\n\"\n",
    "    \"O teu objetivo é fornecer respostas claras, corretas e rápidas, ajudando os colaboradores da Fidelidade a responder com confiança.\\n\"\n",
    "    \"Entendes o contexto da conversa e considera sempre as perguntas anteriores para manter coerência nas respostas.\\n\"\n",
    "    \"Se o colaborador fizer uma pergunta de seguimento, lembre-se do que foi dito antes.\\n\"\n",
    "    \"Não interages diretamente com o cliente final, mas atua como um suporte eficiente para os colaboradores.\\n\"\n",
    "    \"Responde de forma natural, amigável e clara.\"\n",
    ")"
   ]
  },
  {
   "cell_type": "code",
   "execution_count": 11,
   "id": "84f0ccf0",
   "metadata": {},
   "outputs": [],
   "source": [
    "with open(\"prompt_rules.txt\", \"r\", encoding=\"utf-8\") as f:\n",
    "    prompt_rules = f.read()"
   ]
  },
  {
   "cell_type": "code",
   "execution_count": 12,
   "id": "2c32c682-d7cf-4922-816b-79f63bd4dc5d",
   "metadata": {},
   "outputs": [
    {
     "name": "stdout",
     "output_type": "stream",
     "text": [
      "Using existing assistant: asst_afxDUFnwot8aRxGIbDcmPyiv\n"
     ]
    }
   ],
   "source": [
    "# Load or create assistant using existing vector store\n",
    "\n",
    "# Try load existing assistant\n",
    "if os.path.exists(assistantFilename):\n",
    "    with open(assistantFilename, \"r\") as file:\n",
    "        assistant_id = file.read().strip()\n",
    "\n",
    "    # Check if assistant exists in azure\n",
    "    exists, assistant = check_assistant_exists(client, assistant_id)\n",
    "    if exists:\n",
    "        # Load assistant with new role\n",
    "        assistant = client.beta.assistants.update(\n",
    "            assistant_id=assistant_id,\n",
    "            instructions=aRole, \n",
    "            tool_resources={    # The documents made available for the model\n",
    "                \"file_search\": {\n",
    "                    \"vector_store_ids\": [vector_store.id]\n",
    "                }\n",
    "            }\n",
    "        )\n",
    "        print(\"Using existing assistant:\", assistant_id)\n",
    "\n",
    "    else:  # If assistant exist but not valid in azure\n",
    "        print(\"Assistant ID found, but not valid in API. Creating new one...\")\n",
    "        assistant_id = None   # Marker to create new assistant \n",
    "\n",
    "else:   # If no assistant found\n",
    "    print(\"ℹNo assistant ID file found. Creating new assistant...\")\n",
    "    assistant_id = None   # Marker to create new assistant\n",
    "\n",
    "# No valid assistant --> create new one\n",
    "if assistant_id is None:\n",
    "    print(\"Creating new assistant...\")\n",
    "    assistant = create_assistant(client, aRole, assistantFilename)\n",
    "    assistant_id = assistant.id\n",
    "\n",
    "    assistant = client.beta.assistants.update(\n",
    "        assistant_id=assistant.id,\n",
    "        tool_resources={\n",
    "            \"file_search\": {\n",
    "                \"vector_store_ids\": [vector_store.id]\n",
    "            }\n",
    "        }\n",
    "    )\n",
    "    print(\"New assistant created and linked.\")"
   ]
  },
  {
   "cell_type": "code",
   "execution_count": 13,
   "id": "af98d633-ce5f-4b89-8b98-1a4cb9e98ad1",
   "metadata": {},
   "outputs": [],
   "source": [
    "# New thread\n",
    "thread = create_thread(client)"
   ]
  },
  {
   "cell_type": "markdown",
   "id": "6df7b1f2",
   "metadata": {},
   "source": [
    "# Testing the Chat Bot"
   ]
  },
  {
   "cell_type": "code",
   "execution_count": null,
   "id": "0829cc55-8380-48a5-a7d2-3d5bfa946fac",
   "metadata": {},
   "outputs": [
    {
     "name": "stdout",
     "output_type": "stream",
     "text": [
      "You: bom dia!\n",
      "Thinking...\n"
     ]
    },
    {
     "data": {
      "text/markdown": [
       "Assistant: Bom dia! Como posso ajudá-lo hoje? Se tiver alguma pergunta específica, estou à disposição."
      ],
      "text/plain": [
       "<IPython.core.display.Markdown object>"
      ]
     },
     "metadata": {},
     "output_type": "display_data"
    },
    {
     "name": "stdout",
     "output_type": "stream",
     "text": [
      "You: fala-me de seguros\n",
      "Thinking...\n"
     ]
    },
    {
     "data": {
      "text/markdown": [
       "Assistant: Claro! Aqui estão alguns conceitos básicos sobre seguros:\n",
       "\n",
       "- **Definição de Seguro**: É um contrato que oferece proteção financeira contra riscos, como danos, perdas ou responsabilidades, em troca do pagamento de um prêmio.\n",
       "\n",
       "- **Tipos de Seguros**:\n",
       "  - **Seguro de Vida**: Proporciona suporte financeiro aos beneficiários em caso de falecimento do segurado.\n",
       "  - **Seguro de Saúde**: Cobre despesas médicas e hospitalares para o segurado.\n",
       "  - **Seguro Automóvel**: Protege contra danos ao veículo e lesões corporais resultantes de acidentes de carro.\n",
       "  - **Seguro Residencial**: Cobre danos à propriedade e bens dentro da casa, incluindo riscos como incêndio e roubo.\n",
       "  - **Seguro de Viagem**: Oferece cobertura para imprevistos que possam ocorrer durante viagens, como cancelamentos e emergências médicas.\n",
       "\n",
       "- **Princípios de Funcionamento**:\n",
       "  - **Prêmio**: Valor pago pelo segurado para manter a cobertura do seguro.\n",
       "  - **Cobertura**: Limite de proteção disponível em caso de sinistro.\n",
       "  - **Franquia**: Valor que o segurado deve pagar antes que o seguro entre em efeito para o pagamento de um sinistro.\n",
       "\n",
       "- **Benefícios**:\n",
       "  - Proporciona segurança financeira\n",
       "  - Ajuda a gerenciar riscos\n",
       "  - Promove a tranquilidade sabendo que há proteção em caso de imprevistos\n",
       "\n",
       "Se precisar de mais detalhes específicos sobre algum tipo de seguro ou produtos da Fidelidade, estou à disposição para ajudar!"
      ],
      "text/plain": [
       "<IPython.core.display.Markdown object>"
      ]
     },
     "metadata": {},
     "output_type": "display_data"
    },
    {
     "name": "stdout",
     "output_type": "stream",
     "text": [
      "You: e podes aconselhar qual o melhor?\n",
      "Thinking...\n"
     ]
    },
    {
     "data": {
      "text/markdown": [
       "Assistant: Para responder à sua pergunta de forma precisa, preciso de mais contexto sobre qual tipo de seguro ou produto você está se referindo. Cada tipo de seguro ou produto da Fidelidade pode ter características diferentes e ser mais adequado para diferentes necessidades. \n",
       "\n",
       "Seria útil especificar se está interessado em:\n",
       "\n",
       "- Seguro de vida\n",
       "- Seguro saúde\n",
       "- Seguro automóvel\n",
       "- Outro tipo de seguro ou produto financeiro\n",
       "\n",
       "Dessa forma, poderei oferecer informações mais relevantes e adequadas."
      ],
      "text/plain": [
       "<IPython.core.display.Markdown object>"
      ]
     },
     "metadata": {},
     "output_type": "display_data"
    }
   ],
   "source": [
    "# WRITE 'Obrigado, até à próxima!' TO TERMINATE CHAT or WRITE 'Nova Conversa' to reset chat\n",
    "\n",
    "while True:\n",
    "    user_input = input(\"You: \")\n",
    "    full_prompt = f\"{prompt_rules}\\n\\nUser question: {user_input}\"\n",
    "\n",
    "    if user_input.strip().upper() == \"Obrigado, até à próxima!\":\n",
    "        print(\"Obrigado pelo seu contacto. Sempre que precisar estarei aqui. Para que a vida não pare.\")\n",
    "        break\n",
    "    elif user_input.strip().upper() == \"Nova Conversa\":\n",
    "        print(\"Starting a new chat...\")\n",
    "        thread = create_thread(client)\n",
    "    else:\n",
    "        send_message_to_assistant(client, thread, assistant, user_input, full_prompt, displayedMessagesIDs)"
   ]
  }
 ],
 "metadata": {
  "kernelspec": {
   "display_name": "base",
   "language": "python",
   "name": "python3"
  },
  "language_info": {
   "codemirror_mode": {
    "name": "ipython",
    "version": 3
   },
   "file_extension": ".py",
   "mimetype": "text/x-python",
   "name": "python",
   "nbconvert_exporter": "python",
   "pygments_lexer": "ipython3",
   "version": "3.12.2"
  }
 },
 "nbformat": 4,
 "nbformat_minor": 5
}
